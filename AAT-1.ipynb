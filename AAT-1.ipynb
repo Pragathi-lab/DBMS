{
 "cells": [
  {
   "cell_type": "code",
   "execution_count": 2,
   "id": "df039877-6534-44fe-a3a3-3758b8e16a75",
   "metadata": {},
   "outputs": [
    {
     "name": "stdout",
     "output_type": "stream",
     "text": [
      "Orthogonal Vectors:\n",
      " [[ 0.5         0.5         0.5         0.5       ]\n",
      " [-0.63245553 -0.31622777  0.31622777  0.63245553]\n",
      " [ 0.21945509 -0.53034979  0.71322903 -0.40233433]]\n"
     ]
    }
   ],
   "source": [
    "#Gram Schmidt Orthogonalization\n",
    "import numpy as np\n",
    "def gram_schmidt(vectors):\n",
    "    orthogonal_vectors = []\n",
    "    for v in vectors:\n",
    "        w = v - sum(np.dot(v, u) * u for u in orthogonal_vectors)\n",
    "        orthogonal_vectors.append(w / np.linalg.norm(w))\n",
    "    return np.array(orthogonal_vectors)\n",
    "\n",
    "# Example: set of vectors\n",
    "vectors = np.array([\n",
    "    [1, 1, 1, 1],\n",
    "    [1, 2, 4, 5],\n",
    "    [1, -3, 4, -2]\n",
    " ])\n",
    " \n",
    "# Applying Gram-Schmidt Orthogonalization\n",
    "orthogonal_vectors = gram_schmidt(vectors)\n",
    "print(\"Orthogonal Vectors:\\n\", orthogonal_vectors)"
   ]
  },
  {
   "cell_type": "code",
   "execution_count": 3,
   "id": "fb3a8a8d-5853-49c7-b19e-e79f61a67dd3",
   "metadata": {},
   "outputs": [
    {
     "name": "stdout",
     "output_type": "stream",
     "text": [
      "Solution x: [-0.4  2.6]\n",
      "Least Squared error: 1.0954451150103324\n"
     ]
    }
   ],
   "source": [
    "#Least Square Method\n",
    "import numpy as np\n",
    " \n",
    "# Example matrix A and vector b\n",
    "A = np.array([[1, 0], [1, 1], [1, 2], [1, 3]])\n",
    "b = np.array([-1, 3, 5, 7])\n",
    " \n",
    "# Solve using least squares method\n",
    "x, residuals, rank, s = np.linalg.lstsq(A, b, rcond=None)\n",
    "print(\"Solution x:\", x)\n",
    "E = A@x - b\n",
    "E1 = 0\n",
    "for i in E:\n",
    "    E1 += i**2\n",
    "print(\"Least Squared error:\",E1**(1/2))"
   ]
  },
  {
   "cell_type": "code",
   "execution_count": 4,
   "id": "55aa86fa-3b6b-40e1-a662-c4c7846febe0",
   "metadata": {},
   "outputs": [
    {
     "name": "stdout",
     "output_type": "stream",
     "text": [
      "Q:\n",
      " [[-0.66666667  0.33333333]\n",
      " [-0.66666667 -0.66666667]\n",
      " [-0.33333333  0.66666667]]\n",
      "R:\n",
      " [[-3. -5.]\n",
      " [ 0. -1.]]\n",
      "X: [ 4. -1.]\n"
     ]
    }
   ],
   "source": [
    "#QR factorization\n",
    "import numpy as np\n",
    "\n",
    "# Example matrix A\n",
    "A = np.array([[2, 3], [2, 4], [1, 1]])\n",
    "b = np.array([7,3,1])\n",
    " \n",
    "# QR Factorization\n",
    "Q, R = np.linalg.qr(A)\n",
    "print(\"Q:\\n\", Q)\n",
    "print(\"R:\\n\", R)\n",
    "X = np.linalg.inv(R)@(Q.T@b)\n",
    "print(\"X:\",X)"
   ]
  },
  {
   "cell_type": "code",
   "execution_count": 6,
   "id": "e2cdc233-2086-4ee5-8a6d-363f460369f1",
   "metadata": {},
   "outputs": [
    {
     "name": "stdout",
     "output_type": "stream",
     "text": [
      "A^-2:\n",
      " [[ 0.0625 -1.125  -1.125 ]\n",
      " [-0.3125  0.625  -0.375 ]\n",
      " [ 0.3125  0.375   1.375 ]]\n"
     ]
    }
   ],
   "source": [
    "#Cayley Hamilton Theorem\n",
    "import numpy as np\n",
    "from numpy.linalg import matrix_power\n",
    "\n",
    "# Example matrix A\n",
    "A = np.array([[4, 6, 6],[1, 3, 2],[-1, -4, -3]])\n",
    " \n",
    "# Finding integer power using Cayley-Hamilton Theorem\n",
    "def cayley_hamilton(A, n):\n",
    "    # Compute the characteristic polynomial coefficients\n",
    "    coeffs = np.poly(A)\n",
    "    # Create the identity matrix\n",
    "    I = np.eye(A.shape[0])\n",
    "    # Compute A^n\n",
    "    An = matrix_power(A, n)\n",
    "    return An\n",
    "    \n",
    "n = -2  # example power\n",
    "An = cayley_hamilton(A, n)\n",
    "print(f\"A^{n}:\\n\", An)"
   ]
  },
  {
   "cell_type": "code",
   "execution_count": 8,
   "id": "87208d76-67c3-4322-bbf3-26ed44da9dd3",
   "metadata": {},
   "outputs": [
    {
     "name": "stdout",
     "output_type": "stream",
     "text": [
      "Characteristic Polynomial: PurePoly(lamda**4 - 12*lamda**3 + 53*lamda**2 - 102*lamda + 72, lamda, domain='ZZ')\n",
      "All roots of the characteristic polynomial: [2, 3, 3, 4]\n",
      "Minimal Polynomial: lamda**4 - 12*lamda**3 + 53*lamda**2 - 102*lamda + 72\n"
     ]
    }
   ],
   "source": [
    "#Characteristic,Minimal polynomial and Jordan canonicaln Form\n",
    "import numpy as np\n",
    "from sympy import Matrix, symbols, lcm\n",
    " \n",
    "# Define the matrix A\n",
    "A = np.array([[3, 1, 0, 0],\n",
    "              [1, 3, 0, 0],\n",
    "              [0, 0, 3, 0],\n",
    "              [0, 0, 0, 3]])\n",
    " \n",
    "# Convert A to a SymPy Matrix for symbolic computation\n",
    "A_sympy = Matrix(A)\n",
    "\n",
    "# Symbolic variable for lambda\n",
    "lamda = symbols('lamda')\n",
    "\n",
    "# Find characteristic polynomial\n",
    "char_poly = A_sympy.charpoly(lamda)\n",
    "print(f\"Characteristic Polynomial: {char_poly}\")\n",
    "\n",
    "# Find roots of the characteristic polynomial\n",
    "char_roots = char_poly.all_roots()\n",
    "print(f\"All roots of the characteristic polynomial: {char_roots}\")\n",
    "\n",
    "# Function to calculate minimal polynomial from given roots\n",
    "def calculate_minimal_polynomial(roots):\n",
    "    minimal_poly = 1\n",
    "    for root in set(roots):  # Use set to handle repeated roots\n",
    "        minimal_poly *= (lamda - root)**roots.count(root)\n",
    "    return minimal_poly.expand()\n",
    "\n",
    "# Calculate minimal polynomial\n",
    "min_poly = calculate_minimal_polynomial(char_roots)\n",
    "print(f\"Minimal Polynomial: {min_poly}\")"
   ]
  },
  {
   "cell_type": "code",
   "execution_count": 7,
   "id": "8ed93950-175d-4380-b41c-6fa902fdd86b",
   "metadata": {},
   "outputs": [
    {
     "name": "stdout",
     "output_type": "stream",
     "text": [
      "Diagonal matrix D:\n",
      " [[-2.  0.  0.]\n",
      " [ 0. -2.  0.]\n",
      " [ 0.  0.  1.]]\n",
      "Modal matrix P (eigenvectors):\n",
      " [[-1.28197512e-16 -6.72654054e-01  5.77350269e-01]\n",
      " [-7.07106781e-01  7.37141689e-01 -5.77350269e-01]\n",
      " [ 7.07106781e-01 -6.44876349e-02  5.77350269e-01]]\n"
     ]
    }
   ],
   "source": [
    "#Diagonalization of Matrices\n",
    " \n",
    "import numpy as np\n",
    "\n",
    "# Example matrix A\n",
    "A = np.array([[1, 3, 3], [-3, -5, -3], [3, 3, 1]])\n",
    "\n",
    "# Eigenvalues and eigenvectors of A\n",
    "eigenvalues, eigenvectors = np.linalg.eig(A)\n",
    "\n",
    "# Ensure eigenvalues and eigenvectors are sorted consistently\n",
    "idx = np.argsort(eigenvalues)\n",
    "eigenvalues = eigenvalues[idx]\n",
    "eigenvectors = eigenvectors[:, idx]\n",
    "\n",
    "# Diagonal matrix D with eigenvalues\n",
    "D = np.diag(eigenvalues)\n",
    " \n",
    "print(\"Diagonal matrix D:\\n\", D)\n",
    "print(\"Modal matrix P (eigenvectors):\\n\", eigenvectors)\n"
   ]
  },
  {
   "cell_type": "code",
   "execution_count": 8,
   "id": "b4ecc9b7-3b6a-4593-b6b2-68c158d4a88e",
   "metadata": {},
   "outputs": [
    {
     "name": "stdout",
     "output_type": "stream",
     "text": [
      "Canonical form:\n",
      " [[1. 0. 0.]\n",
      " [0. 2. 0.]\n",
      " [0. 0. 4.]]\n",
      "Orthogonal matrix Q:\n",
      " [[ 1.          0.          0.        ]\n",
      " [ 0.          0.70710678 -0.70710678]\n",
      " [ 0.          0.70710678  0.70710678]]\n"
     ]
    }
   ],
   "source": [
    "#Quadratic Form to Canonical Form\n",
    "import numpy as np\n",
    "from scipy.linalg import eigh\n",
    "\n",
    "# Example matrix A (symmetric matrix)\n",
    "A = np.array([[1, 0, 0], [0, 3, -1], [0, -1, 3]])\n",
    "\n",
    "# Eigenvalues and eigenvectors for symmetric matrix\n",
    "eigenvalues, eigenvectors = eigh(A)\n",
    "\n",
    "# Canonical form\n",
    "canonical_form = np.diag(eigenvalues)\n",
    "print(\"Canonical form:\\n\", canonical_form)\n",
    "print(\"Orthogonal matrix Q:\\n\", eigenvectors)"
   ]
  },
  {
   "cell_type": "code",
   "execution_count": 9,
   "id": "ca525050-6379-4429-9a4d-c7e8a4b52c47",
   "metadata": {},
   "outputs": [
    {
     "name": "stdout",
     "output_type": "stream",
     "text": [
      "U:\n",
      " [[-0.70710678  0.70710678]\n",
      " [ 0.70710678  0.70710678]]\n",
      "S:\n",
      " [1.73205081 1.        ]\n",
      "Vt:\n",
      " [[ 4.08248290e-01 -8.16496581e-01  4.08248290e-01]\n",
      " [-7.07106781e-01 -2.78976253e-16  7.07106781e-01]\n",
      " [ 5.77350269e-01  5.77350269e-01  5.77350269e-01]]\n"
     ]
    }
   ],
   "source": [
    "#Singular value decomposition\n",
    "import numpy as np\n",
    "\n",
    "# Example matrix A\n",
    "A = np.array([[-1, 1, 0], [0, -1, 1]])\n",
    " \n",
    "# Singular Value Decomposition\n",
    "U, S, Vt = np.linalg.svd(A)\n",
    "print(\"U:\\n\", U)\n",
    "print(\"S:\\n\", S)\n",
    "print(\"Vt:\\n\", Vt)"
   ]
  },
  {
   "cell_type": "code",
   "execution_count": 9,
   "id": "d5f4833c-3323-428e-aa3c-cc2cd2048947",
   "metadata": {},
   "outputs": [
    {
     "name": "stdout",
     "output_type": "stream",
     "text": [
      "Principal components:\n",
      " [[-0.55738997  0.83025082]]\n",
      "Explained variance: [0.82121255]\n",
      "First principal components: [[ 4.30518692 -3.73612869 -5.69282771  5.12376947]]\n"
     ]
    }
   ],
   "source": [
    "#Principle Component Analysis\n",
    "import numpy as np\n",
    "from sklearn.decomposition import PCA\n",
    "import matplotlib.pyplot as plt\n",
    " \n",
    "# Example data\n",
    "# Assume data is a matrix where each row is a sample and each column is a feature\n",
    "data = np.array([[4, 11],\n",
    "                 [8, 4],\n",
    "                 [13, 5],\n",
    "                 [7, 14]])\n",
    " \n",
    "# Centering the data\n",
    "data_centered = data - np.mean(data, axis=0)\n",
    " \n",
    "# Perform PCA\n",
    "pca = PCA(n_components=1)\n",
    "pca.fit(data_centered)\n",
    "\n",
    "# Transform the data\n",
    "transformed_data = pca.transform(data_centered)\n",
    " \n",
    "# PCA components and explained variance\n",
    "print(\"Principal components:\\n\", pca.components_)\n",
    "print(\"Explained variance:\", pca.explained_variance_ratio_)\n",
    "first_pc = pca.components_@data_centered.T\n",
    "print(\"First principal components:\",first_pc)\n"
   ]
  },
  {
   "cell_type": "code",
   "execution_count": null,
   "id": "5a52be7f-c55b-4c86-a10c-a32efe65dbbd",
   "metadata": {},
   "outputs": [],
   "source": []
  }
 ],
 "metadata": {
  "kernelspec": {
   "display_name": "Python 3 (ipykernel)",
   "language": "python",
   "name": "python3"
  },
  "language_info": {
   "codemirror_mode": {
    "name": "ipython",
    "version": 3
   },
   "file_extension": ".py",
   "mimetype": "text/x-python",
   "name": "python",
   "nbconvert_exporter": "python",
   "pygments_lexer": "ipython3",
   "version": "3.13.3"
  }
 },
 "nbformat": 4,
 "nbformat_minor": 5
}
